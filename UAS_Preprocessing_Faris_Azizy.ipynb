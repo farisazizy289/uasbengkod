{
  "nbformat": 4,
  "nbformat_minor": 0,
  "metadata": {
    "colab": {
      "provenance": [],
      "gpuType": "T4"
    },
    "kernelspec": {
      "name": "python3",
      "display_name": "Python 3"
    },
    "language_info": {
      "name": "python"
    },
    "accelerator": "GPU"
  },
  "cells": [
    {
      "cell_type": "markdown",
      "source": [
        "# **Exploratory Data Analysis(EDA)**"
      ],
      "metadata": {
        "id": "Ku4z9A3qdyRi"
      }
    },
    {
      "cell_type": "code",
      "source": [
        "#library\n",
        "import pandas as pd\n",
        "import numpy as np\n",
        "import seaborn as sns\n",
        "import matplotlib.pyplot as plt\n",
        "import time\n",
        "from sklearn.preprocessing import LabelEncoder, StandardScaler\n",
        "from sklearn.model_selection import train_test_split\n",
        "from sklearn.metrics import accuracy_score, classification_report, confusion_matrix\n",
        "from sklearn.ensemble import RandomForestClassifier\n",
        "from sklearn.tree import DecisionTreeClassifier\n",
        "from sklearn.neighbors import KNeighborsClassifier\n",
        "from sklearn.linear_model import LogisticRegression\n",
        "from sklearn.svm import SVC\n",
        "from imblearn.over_sampling import SMOTE"
      ],
      "metadata": {
        "id": "YTwMjqN5dxD3"
      },
      "execution_count": 43,
      "outputs": []
    },
    {
      "cell_type": "code",
      "source": [
        "#Mount Google Drive\n",
        "from google.colab import drive\n",
        "drive.mount('/content/drive')"
      ],
      "metadata": {
        "colab": {
          "base_uri": "https://localhost:8080/"
        },
        "id": "mTT33PshQrz8",
        "outputId": "0e2aa046-f06b-414e-ba0b-dc81c1ebf487"
      },
      "execution_count": 44,
      "outputs": [
        {
          "output_type": "stream",
          "name": "stdout",
          "text": [
            "Drive already mounted at /content/drive; to attempt to forcibly remount, call drive.mount(\"/content/drive\", force_remount=True).\n"
          ]
        }
      ]
    },
    {
      "cell_type": "code",
      "source": [
        "#Load Dataset\n",
        "df = pd.read_csv('/content/drive/MyDrive/Colab Notebooks/UAS Bengkod/ObesityDataSet.csv')"
      ],
      "metadata": {
        "id": "35TGdHB5QtSl"
      },
      "execution_count": 45,
      "outputs": []
    },
    {
      "cell_type": "code",
      "source": [
        "#Melihat 5 Baris Pertama Dataset\n",
        "df.head()"
      ],
      "metadata": {
        "colab": {
          "base_uri": "https://localhost:8080/",
          "height": 206
        },
        "id": "cyirqzc_d6P1",
        "outputId": "c26af191-07db-430e-b787-387ac16abd33"
      },
      "execution_count": 46,
      "outputs": [
        {
          "output_type": "execute_result",
          "data": {
            "text/plain": [
              "  Age  Gender Height Weight        CALC FAVC FCVC NCP  SCC SMOKE CH2O  \\\n",
              "0  21  Female   1.62     64          no   no    2   3   no    no    2   \n",
              "1  21  Female   1.52     56   Sometimes   no    3   3  yes   yes    3   \n",
              "2  23    Male    1.8     77  Frequently   no    2   3   no    no    2   \n",
              "3  27    Male    1.8     87  Frequently   no    3   3   no    no    2   \n",
              "4  22    Male   1.78   89.8   Sometimes   no    2   1   no    no    2   \n",
              "\n",
              "  family_history_with_overweight FAF TUE       CAEC                 MTRANS  \\\n",
              "0                            yes   0   1  Sometimes  Public_Transportation   \n",
              "1                            yes   3   0  Sometimes  Public_Transportation   \n",
              "2                            yes   2   1  Sometimes  Public_Transportation   \n",
              "3                             no   2   0  Sometimes                Walking   \n",
              "4                             no   0   0  Sometimes  Public_Transportation   \n",
              "\n",
              "            NObeyesdad  \n",
              "0        Normal_Weight  \n",
              "1        Normal_Weight  \n",
              "2        Normal_Weight  \n",
              "3   Overweight_Level_I  \n",
              "4  Overweight_Level_II  "
            ],
            "text/html": [
              "\n",
              "  <div id=\"df-024aff2a-4fac-4a64-852a-dd76f70aa740\" class=\"colab-df-container\">\n",
              "    <div>\n",
              "<style scoped>\n",
              "    .dataframe tbody tr th:only-of-type {\n",
              "        vertical-align: middle;\n",
              "    }\n",
              "\n",
              "    .dataframe tbody tr th {\n",
              "        vertical-align: top;\n",
              "    }\n",
              "\n",
              "    .dataframe thead th {\n",
              "        text-align: right;\n",
              "    }\n",
              "</style>\n",
              "<table border=\"1\" class=\"dataframe\">\n",
              "  <thead>\n",
              "    <tr style=\"text-align: right;\">\n",
              "      <th></th>\n",
              "      <th>Age</th>\n",
              "      <th>Gender</th>\n",
              "      <th>Height</th>\n",
              "      <th>Weight</th>\n",
              "      <th>CALC</th>\n",
              "      <th>FAVC</th>\n",
              "      <th>FCVC</th>\n",
              "      <th>NCP</th>\n",
              "      <th>SCC</th>\n",
              "      <th>SMOKE</th>\n",
              "      <th>CH2O</th>\n",
              "      <th>family_history_with_overweight</th>\n",
              "      <th>FAF</th>\n",
              "      <th>TUE</th>\n",
              "      <th>CAEC</th>\n",
              "      <th>MTRANS</th>\n",
              "      <th>NObeyesdad</th>\n",
              "    </tr>\n",
              "  </thead>\n",
              "  <tbody>\n",
              "    <tr>\n",
              "      <th>0</th>\n",
              "      <td>21</td>\n",
              "      <td>Female</td>\n",
              "      <td>1.62</td>\n",
              "      <td>64</td>\n",
              "      <td>no</td>\n",
              "      <td>no</td>\n",
              "      <td>2</td>\n",
              "      <td>3</td>\n",
              "      <td>no</td>\n",
              "      <td>no</td>\n",
              "      <td>2</td>\n",
              "      <td>yes</td>\n",
              "      <td>0</td>\n",
              "      <td>1</td>\n",
              "      <td>Sometimes</td>\n",
              "      <td>Public_Transportation</td>\n",
              "      <td>Normal_Weight</td>\n",
              "    </tr>\n",
              "    <tr>\n",
              "      <th>1</th>\n",
              "      <td>21</td>\n",
              "      <td>Female</td>\n",
              "      <td>1.52</td>\n",
              "      <td>56</td>\n",
              "      <td>Sometimes</td>\n",
              "      <td>no</td>\n",
              "      <td>3</td>\n",
              "      <td>3</td>\n",
              "      <td>yes</td>\n",
              "      <td>yes</td>\n",
              "      <td>3</td>\n",
              "      <td>yes</td>\n",
              "      <td>3</td>\n",
              "      <td>0</td>\n",
              "      <td>Sometimes</td>\n",
              "      <td>Public_Transportation</td>\n",
              "      <td>Normal_Weight</td>\n",
              "    </tr>\n",
              "    <tr>\n",
              "      <th>2</th>\n",
              "      <td>23</td>\n",
              "      <td>Male</td>\n",
              "      <td>1.8</td>\n",
              "      <td>77</td>\n",
              "      <td>Frequently</td>\n",
              "      <td>no</td>\n",
              "      <td>2</td>\n",
              "      <td>3</td>\n",
              "      <td>no</td>\n",
              "      <td>no</td>\n",
              "      <td>2</td>\n",
              "      <td>yes</td>\n",
              "      <td>2</td>\n",
              "      <td>1</td>\n",
              "      <td>Sometimes</td>\n",
              "      <td>Public_Transportation</td>\n",
              "      <td>Normal_Weight</td>\n",
              "    </tr>\n",
              "    <tr>\n",
              "      <th>3</th>\n",
              "      <td>27</td>\n",
              "      <td>Male</td>\n",
              "      <td>1.8</td>\n",
              "      <td>87</td>\n",
              "      <td>Frequently</td>\n",
              "      <td>no</td>\n",
              "      <td>3</td>\n",
              "      <td>3</td>\n",
              "      <td>no</td>\n",
              "      <td>no</td>\n",
              "      <td>2</td>\n",
              "      <td>no</td>\n",
              "      <td>2</td>\n",
              "      <td>0</td>\n",
              "      <td>Sometimes</td>\n",
              "      <td>Walking</td>\n",
              "      <td>Overweight_Level_I</td>\n",
              "    </tr>\n",
              "    <tr>\n",
              "      <th>4</th>\n",
              "      <td>22</td>\n",
              "      <td>Male</td>\n",
              "      <td>1.78</td>\n",
              "      <td>89.8</td>\n",
              "      <td>Sometimes</td>\n",
              "      <td>no</td>\n",
              "      <td>2</td>\n",
              "      <td>1</td>\n",
              "      <td>no</td>\n",
              "      <td>no</td>\n",
              "      <td>2</td>\n",
              "      <td>no</td>\n",
              "      <td>0</td>\n",
              "      <td>0</td>\n",
              "      <td>Sometimes</td>\n",
              "      <td>Public_Transportation</td>\n",
              "      <td>Overweight_Level_II</td>\n",
              "    </tr>\n",
              "  </tbody>\n",
              "</table>\n",
              "</div>\n",
              "    <div class=\"colab-df-buttons\">\n",
              "\n",
              "  <div class=\"colab-df-container\">\n",
              "    <button class=\"colab-df-convert\" onclick=\"convertToInteractive('df-024aff2a-4fac-4a64-852a-dd76f70aa740')\"\n",
              "            title=\"Convert this dataframe to an interactive table.\"\n",
              "            style=\"display:none;\">\n",
              "\n",
              "  <svg xmlns=\"http://www.w3.org/2000/svg\" height=\"24px\" viewBox=\"0 -960 960 960\">\n",
              "    <path d=\"M120-120v-720h720v720H120Zm60-500h600v-160H180v160Zm220 220h160v-160H400v160Zm0 220h160v-160H400v160ZM180-400h160v-160H180v160Zm440 0h160v-160H620v160ZM180-180h160v-160H180v160Zm440 0h160v-160H620v160Z\"/>\n",
              "  </svg>\n",
              "    </button>\n",
              "\n",
              "  <style>\n",
              "    .colab-df-container {\n",
              "      display:flex;\n",
              "      gap: 12px;\n",
              "    }\n",
              "\n",
              "    .colab-df-convert {\n",
              "      background-color: #E8F0FE;\n",
              "      border: none;\n",
              "      border-radius: 50%;\n",
              "      cursor: pointer;\n",
              "      display: none;\n",
              "      fill: #1967D2;\n",
              "      height: 32px;\n",
              "      padding: 0 0 0 0;\n",
              "      width: 32px;\n",
              "    }\n",
              "\n",
              "    .colab-df-convert:hover {\n",
              "      background-color: #E2EBFA;\n",
              "      box-shadow: 0px 1px 2px rgba(60, 64, 67, 0.3), 0px 1px 3px 1px rgba(60, 64, 67, 0.15);\n",
              "      fill: #174EA6;\n",
              "    }\n",
              "\n",
              "    .colab-df-buttons div {\n",
              "      margin-bottom: 4px;\n",
              "    }\n",
              "\n",
              "    [theme=dark] .colab-df-convert {\n",
              "      background-color: #3B4455;\n",
              "      fill: #D2E3FC;\n",
              "    }\n",
              "\n",
              "    [theme=dark] .colab-df-convert:hover {\n",
              "      background-color: #434B5C;\n",
              "      box-shadow: 0px 1px 3px 1px rgba(0, 0, 0, 0.15);\n",
              "      filter: drop-shadow(0px 1px 2px rgba(0, 0, 0, 0.3));\n",
              "      fill: #FFFFFF;\n",
              "    }\n",
              "  </style>\n",
              "\n",
              "    <script>\n",
              "      const buttonEl =\n",
              "        document.querySelector('#df-024aff2a-4fac-4a64-852a-dd76f70aa740 button.colab-df-convert');\n",
              "      buttonEl.style.display =\n",
              "        google.colab.kernel.accessAllowed ? 'block' : 'none';\n",
              "\n",
              "      async function convertToInteractive(key) {\n",
              "        const element = document.querySelector('#df-024aff2a-4fac-4a64-852a-dd76f70aa740');\n",
              "        const dataTable =\n",
              "          await google.colab.kernel.invokeFunction('convertToInteractive',\n",
              "                                                    [key], {});\n",
              "        if (!dataTable) return;\n",
              "\n",
              "        const docLinkHtml = 'Like what you see? Visit the ' +\n",
              "          '<a target=\"_blank\" href=https://colab.research.google.com/notebooks/data_table.ipynb>data table notebook</a>'\n",
              "          + ' to learn more about interactive tables.';\n",
              "        element.innerHTML = '';\n",
              "        dataTable['output_type'] = 'display_data';\n",
              "        await google.colab.output.renderOutput(dataTable, element);\n",
              "        const docLink = document.createElement('div');\n",
              "        docLink.innerHTML = docLinkHtml;\n",
              "        element.appendChild(docLink);\n",
              "      }\n",
              "    </script>\n",
              "  </div>\n",
              "\n",
              "\n",
              "    <div id=\"df-1e674154-1b60-45c5-8d58-ed44a5cee484\">\n",
              "      <button class=\"colab-df-quickchart\" onclick=\"quickchart('df-1e674154-1b60-45c5-8d58-ed44a5cee484')\"\n",
              "                title=\"Suggest charts\"\n",
              "                style=\"display:none;\">\n",
              "\n",
              "<svg xmlns=\"http://www.w3.org/2000/svg\" height=\"24px\"viewBox=\"0 0 24 24\"\n",
              "     width=\"24px\">\n",
              "    <g>\n",
              "        <path d=\"M19 3H5c-1.1 0-2 .9-2 2v14c0 1.1.9 2 2 2h14c1.1 0 2-.9 2-2V5c0-1.1-.9-2-2-2zM9 17H7v-7h2v7zm4 0h-2V7h2v10zm4 0h-2v-4h2v4z\"/>\n",
              "    </g>\n",
              "</svg>\n",
              "      </button>\n",
              "\n",
              "<style>\n",
              "  .colab-df-quickchart {\n",
              "      --bg-color: #E8F0FE;\n",
              "      --fill-color: #1967D2;\n",
              "      --hover-bg-color: #E2EBFA;\n",
              "      --hover-fill-color: #174EA6;\n",
              "      --disabled-fill-color: #AAA;\n",
              "      --disabled-bg-color: #DDD;\n",
              "  }\n",
              "\n",
              "  [theme=dark] .colab-df-quickchart {\n",
              "      --bg-color: #3B4455;\n",
              "      --fill-color: #D2E3FC;\n",
              "      --hover-bg-color: #434B5C;\n",
              "      --hover-fill-color: #FFFFFF;\n",
              "      --disabled-bg-color: #3B4455;\n",
              "      --disabled-fill-color: #666;\n",
              "  }\n",
              "\n",
              "  .colab-df-quickchart {\n",
              "    background-color: var(--bg-color);\n",
              "    border: none;\n",
              "    border-radius: 50%;\n",
              "    cursor: pointer;\n",
              "    display: none;\n",
              "    fill: var(--fill-color);\n",
              "    height: 32px;\n",
              "    padding: 0;\n",
              "    width: 32px;\n",
              "  }\n",
              "\n",
              "  .colab-df-quickchart:hover {\n",
              "    background-color: var(--hover-bg-color);\n",
              "    box-shadow: 0 1px 2px rgba(60, 64, 67, 0.3), 0 1px 3px 1px rgba(60, 64, 67, 0.15);\n",
              "    fill: var(--button-hover-fill-color);\n",
              "  }\n",
              "\n",
              "  .colab-df-quickchart-complete:disabled,\n",
              "  .colab-df-quickchart-complete:disabled:hover {\n",
              "    background-color: var(--disabled-bg-color);\n",
              "    fill: var(--disabled-fill-color);\n",
              "    box-shadow: none;\n",
              "  }\n",
              "\n",
              "  .colab-df-spinner {\n",
              "    border: 2px solid var(--fill-color);\n",
              "    border-color: transparent;\n",
              "    border-bottom-color: var(--fill-color);\n",
              "    animation:\n",
              "      spin 1s steps(1) infinite;\n",
              "  }\n",
              "\n",
              "  @keyframes spin {\n",
              "    0% {\n",
              "      border-color: transparent;\n",
              "      border-bottom-color: var(--fill-color);\n",
              "      border-left-color: var(--fill-color);\n",
              "    }\n",
              "    20% {\n",
              "      border-color: transparent;\n",
              "      border-left-color: var(--fill-color);\n",
              "      border-top-color: var(--fill-color);\n",
              "    }\n",
              "    30% {\n",
              "      border-color: transparent;\n",
              "      border-left-color: var(--fill-color);\n",
              "      border-top-color: var(--fill-color);\n",
              "      border-right-color: var(--fill-color);\n",
              "    }\n",
              "    40% {\n",
              "      border-color: transparent;\n",
              "      border-right-color: var(--fill-color);\n",
              "      border-top-color: var(--fill-color);\n",
              "    }\n",
              "    60% {\n",
              "      border-color: transparent;\n",
              "      border-right-color: var(--fill-color);\n",
              "    }\n",
              "    80% {\n",
              "      border-color: transparent;\n",
              "      border-right-color: var(--fill-color);\n",
              "      border-bottom-color: var(--fill-color);\n",
              "    }\n",
              "    90% {\n",
              "      border-color: transparent;\n",
              "      border-bottom-color: var(--fill-color);\n",
              "    }\n",
              "  }\n",
              "</style>\n",
              "\n",
              "      <script>\n",
              "        async function quickchart(key) {\n",
              "          const quickchartButtonEl =\n",
              "            document.querySelector('#' + key + ' button');\n",
              "          quickchartButtonEl.disabled = true;  // To prevent multiple clicks.\n",
              "          quickchartButtonEl.classList.add('colab-df-spinner');\n",
              "          try {\n",
              "            const charts = await google.colab.kernel.invokeFunction(\n",
              "                'suggestCharts', [key], {});\n",
              "          } catch (error) {\n",
              "            console.error('Error during call to suggestCharts:', error);\n",
              "          }\n",
              "          quickchartButtonEl.classList.remove('colab-df-spinner');\n",
              "          quickchartButtonEl.classList.add('colab-df-quickchart-complete');\n",
              "        }\n",
              "        (() => {\n",
              "          let quickchartButtonEl =\n",
              "            document.querySelector('#df-1e674154-1b60-45c5-8d58-ed44a5cee484 button');\n",
              "          quickchartButtonEl.style.display =\n",
              "            google.colab.kernel.accessAllowed ? 'block' : 'none';\n",
              "        })();\n",
              "      </script>\n",
              "    </div>\n",
              "\n",
              "    </div>\n",
              "  </div>\n"
            ],
            "application/vnd.google.colaboratory.intrinsic+json": {
              "type": "dataframe",
              "variable_name": "df",
              "summary": "{\n  \"name\": \"df\",\n  \"rows\": 2111,\n  \"fields\": [\n    {\n      \"column\": \"Age\",\n      \"properties\": {\n        \"dtype\": \"string\",\n        \"num_unique_values\": 1394,\n        \"samples\": [\n          \"21.012569\",\n          \"30.577944\",\n          \"30.002029\"\n        ],\n        \"semantic_type\": \"\",\n        \"description\": \"\"\n      }\n    },\n    {\n      \"column\": \"Gender\",\n      \"properties\": {\n        \"dtype\": \"category\",\n        \"num_unique_values\": 3,\n        \"samples\": [\n          \"Female\",\n          \"Male\",\n          \"?\"\n        ],\n        \"semantic_type\": \"\",\n        \"description\": \"\"\n      }\n    },\n    {\n      \"column\": \"Height\",\n      \"properties\": {\n        \"dtype\": \"string\",\n        \"num_unique_values\": 1562,\n        \"samples\": [\n          \"1.817917\",\n          \"1.699793\",\n          \"1.508908\"\n        ],\n        \"semantic_type\": \"\",\n        \"description\": \"\"\n      }\n    },\n    {\n      \"column\": \"Weight\",\n      \"properties\": {\n        \"dtype\": \"string\",\n        \"num_unique_values\": 1518,\n        \"samples\": [\n          \"49.105025\",\n          \"109.900472\",\n          \"104.585783\"\n        ],\n        \"semantic_type\": \"\",\n        \"description\": \"\"\n      }\n    },\n    {\n      \"column\": \"CALC\",\n      \"properties\": {\n        \"dtype\": \"category\",\n        \"num_unique_values\": 5,\n        \"samples\": [\n          \"Sometimes\",\n          \"Always\",\n          \"Frequently\"\n        ],\n        \"semantic_type\": \"\",\n        \"description\": \"\"\n      }\n    },\n    {\n      \"column\": \"FAVC\",\n      \"properties\": {\n        \"dtype\": \"category\",\n        \"num_unique_values\": 3,\n        \"samples\": [\n          \"no\",\n          \"yes\",\n          \"?\"\n        ],\n        \"semantic_type\": \"\",\n        \"description\": \"\"\n      }\n    },\n    {\n      \"column\": \"FCVC\",\n      \"properties\": {\n        \"dtype\": \"category\",\n        \"num_unique_values\": 808,\n        \"samples\": [\n          \"2.535154\",\n          \"2.951591\",\n          \"2.971588\"\n        ],\n        \"semantic_type\": \"\",\n        \"description\": \"\"\n      }\n    },\n    {\n      \"column\": \"NCP\",\n      \"properties\": {\n        \"dtype\": \"category\",\n        \"num_unique_values\": 637,\n        \"samples\": [\n          \"2.812283\",\n          \"2.118153\",\n          \"3.821168\"\n        ],\n        \"semantic_type\": \"\",\n        \"description\": \"\"\n      }\n    },\n    {\n      \"column\": \"SCC\",\n      \"properties\": {\n        \"dtype\": \"category\",\n        \"num_unique_values\": 3,\n        \"samples\": [\n          \"no\",\n          \"yes\",\n          \"?\"\n        ],\n        \"semantic_type\": \"\",\n        \"description\": \"\"\n      }\n    },\n    {\n      \"column\": \"SMOKE\",\n      \"properties\": {\n        \"dtype\": \"category\",\n        \"num_unique_values\": 3,\n        \"samples\": [\n          \"no\",\n          \"yes\",\n          \"?\"\n        ],\n        \"semantic_type\": \"\",\n        \"description\": \"\"\n      }\n    },\n    {\n      \"column\": \"CH2O\",\n      \"properties\": {\n        \"dtype\": \"string\",\n        \"num_unique_values\": 1263,\n        \"samples\": [\n          \"2.395387\",\n          \"1.01378\",\n          \"2.03415\"\n        ],\n        \"semantic_type\": \"\",\n        \"description\": \"\"\n      }\n    },\n    {\n      \"column\": \"family_history_with_overweight\",\n      \"properties\": {\n        \"dtype\": \"category\",\n        \"num_unique_values\": 3,\n        \"samples\": [\n          \"yes\",\n          \"no\",\n          \"?\"\n        ],\n        \"semantic_type\": \"\",\n        \"description\": \"\"\n      }\n    },\n    {\n      \"column\": \"FAF\",\n      \"properties\": {\n        \"dtype\": \"string\",\n        \"num_unique_values\": 1186,\n        \"samples\": [\n          \"1.609801\",\n          \"1.194898\",\n          \"1.34139\"\n        ],\n        \"semantic_type\": \"\",\n        \"description\": \"\"\n      }\n    },\n    {\n      \"column\": \"TUE\",\n      \"properties\": {\n        \"dtype\": \"string\",\n        \"num_unique_values\": 1130,\n        \"samples\": [\n          \"1.89933\",\n          \"0.930836\",\n          \"0.173232\"\n        ],\n        \"semantic_type\": \"\",\n        \"description\": \"\"\n      }\n    },\n    {\n      \"column\": \"CAEC\",\n      \"properties\": {\n        \"dtype\": \"category\",\n        \"num_unique_values\": 5,\n        \"samples\": [\n          \"Frequently\",\n          \"?\",\n          \"Always\"\n        ],\n        \"semantic_type\": \"\",\n        \"description\": \"\"\n      }\n    },\n    {\n      \"column\": \"MTRANS\",\n      \"properties\": {\n        \"dtype\": \"category\",\n        \"num_unique_values\": 6,\n        \"samples\": [\n          \"Public_Transportation\",\n          \"Walking\",\n          \"?\"\n        ],\n        \"semantic_type\": \"\",\n        \"description\": \"\"\n      }\n    },\n    {\n      \"column\": \"NObeyesdad\",\n      \"properties\": {\n        \"dtype\": \"category\",\n        \"num_unique_values\": 7,\n        \"samples\": [\n          \"Normal_Weight\",\n          \"Overweight_Level_I\",\n          \"Obesity_Type_II\"\n        ],\n        \"semantic_type\": \"\",\n        \"description\": \"\"\n      }\n    }\n  ]\n}"
            }
          },
          "metadata": {},
          "execution_count": 46
        }
      ]
    },
    {
      "cell_type": "code",
      "source": [
        "# Menampilkan jumlah baris dan kolom\n",
        "print(f\"Jumlah Baris: {df.shape[0]}\")\n",
        "print(f\"Jumlah Kolom: {df.shape[1]}\")"
      ],
      "metadata": {
        "colab": {
          "base_uri": "https://localhost:8080/"
        },
        "id": "oAjjqWegLBEc",
        "outputId": "3ed3420a-b22f-4395-ad98-087d3005e239"
      },
      "execution_count": 47,
      "outputs": [
        {
          "output_type": "stream",
          "name": "stdout",
          "text": [
            "Jumlah Baris: 2111\n",
            "Jumlah Kolom: 17\n"
          ]
        }
      ]
    },
    {
      "cell_type": "code",
      "source": [
        "#Menampilkan Informasi Dataset\n",
        "df.info()"
      ],
      "metadata": {
        "id": "UpS7lqiBeGl_",
        "colab": {
          "base_uri": "https://localhost:8080/"
        },
        "outputId": "ca783f96-010b-448b-b909-1478a655c88c"
      },
      "execution_count": 48,
      "outputs": [
        {
          "output_type": "stream",
          "name": "stdout",
          "text": [
            "<class 'pandas.core.frame.DataFrame'>\n",
            "RangeIndex: 2111 entries, 0 to 2110\n",
            "Data columns (total 17 columns):\n",
            " #   Column                          Non-Null Count  Dtype \n",
            "---  ------                          --------------  ----- \n",
            " 0   Age                             2097 non-null   object\n",
            " 1   Gender                          2102 non-null   object\n",
            " 2   Height                          2099 non-null   object\n",
            " 3   Weight                          2100 non-null   object\n",
            " 4   CALC                            2106 non-null   object\n",
            " 5   FAVC                            2100 non-null   object\n",
            " 6   FCVC                            2103 non-null   object\n",
            " 7   NCP                             2099 non-null   object\n",
            " 8   SCC                             2101 non-null   object\n",
            " 9   SMOKE                           2106 non-null   object\n",
            " 10  CH2O                            2105 non-null   object\n",
            " 11  family_history_with_overweight  2098 non-null   object\n",
            " 12  FAF                             2103 non-null   object\n",
            " 13  TUE                             2102 non-null   object\n",
            " 14  CAEC                            2100 non-null   object\n",
            " 15  MTRANS                          2105 non-null   object\n",
            " 16  NObeyesdad                      2111 non-null   object\n",
            "dtypes: object(17)\n",
            "memory usage: 280.5+ KB\n"
          ]
        }
      ]
    },
    {
      "cell_type": "code",
      "source": [
        "# Menampilkan deskripsi data (statistik deskriptif untuk kolom numerik\n",
        "print(df.describe())"
      ],
      "metadata": {
        "colab": {
          "base_uri": "https://localhost:8080/"
        },
        "id": "jVNqWcbLLuCZ",
        "outputId": "72db0e44-3737-446d-9250-a96c1819ce55"
      },
      "execution_count": 49,
      "outputs": [
        {
          "output_type": "stream",
          "name": "stdout",
          "text": [
            "         Age Gender Height Weight       CALC  FAVC  FCVC   NCP   SCC SMOKE  \\\n",
            "count   2097   2102   2099   2100       2106  2100  2103  2099  2101  2106   \n",
            "unique  1394      3   1562   1518          5     3   808   637     3     3   \n",
            "top       18   Male    1.7     80  Sometimes   yes     3     3    no    no   \n",
            "freq     124   1056     58     58       1386  1844   647  1183  1997  2054   \n",
            "\n",
            "        CH2O family_history_with_overweight   FAF   TUE       CAEC  \\\n",
            "count   2105                           2098  2103  2102       2100   \n",
            "unique  1263                              3  1186  1130          5   \n",
            "top        2                            yes     0     0  Sometimes   \n",
            "freq     441                           1705   404   552       1747   \n",
            "\n",
            "                       MTRANS      NObeyesdad  \n",
            "count                    2105            2111  \n",
            "unique                      6               7  \n",
            "top     Public_Transportation  Obesity_Type_I  \n",
            "freq                     1572             351  \n"
          ]
        }
      ]
    },
    {
      "cell_type": "code",
      "source": [
        "# Menampilkan tipe data setiap kolom\n",
        "print(df.dtypes)"
      ],
      "metadata": {
        "colab": {
          "base_uri": "https://localhost:8080/"
        },
        "id": "3HmVutpUMLXy",
        "outputId": "9598ef4a-cfe0-4214-86e2-986352e77260"
      },
      "execution_count": 50,
      "outputs": [
        {
          "output_type": "stream",
          "name": "stdout",
          "text": [
            "Age                               object\n",
            "Gender                            object\n",
            "Height                            object\n",
            "Weight                            object\n",
            "CALC                              object\n",
            "FAVC                              object\n",
            "FCVC                              object\n",
            "NCP                               object\n",
            "SCC                               object\n",
            "SMOKE                             object\n",
            "CH2O                              object\n",
            "family_history_with_overweight    object\n",
            "FAF                               object\n",
            "TUE                               object\n",
            "CAEC                              object\n",
            "MTRANS                            object\n",
            "NObeyesdad                        object\n",
            "dtype: object\n"
          ]
        }
      ]
    },
    {
      "cell_type": "code",
      "source": [
        "#Distribusi Kelas Target\n",
        "plt.figure(figsize=(5, 4))\n",
        "sns.countplot(data=df, x=\"NObeyesdad\", hue=\"NObeyesdad\", palette=\"pastel\", legend=False)\n",
        "plt.xticks(rotation=45, ha='right')\n",
        "plt.tight_layout()\n",
        "\n",
        "plt.title(\"Distribusi Kelas Target\")\n",
        "plt.ylabel(\"Jumlah\")\n",
        "plt.show()"
      ],
      "metadata": {
        "id": "ap4QhbTDeZ5I",
        "colab": {
          "base_uri": "https://localhost:8080/",
          "height": 429
        },
        "outputId": "7781f45e-f88d-4a0c-ff06-e4cf682acf2e"
      },
      "execution_count": 51,
      "outputs": [
        {
          "output_type": "display_data",
          "data": {
            "text/plain": [
              "<Figure size 500x400 with 1 Axes>"
            ],
            "image/png": "[encoded data removed]"
          },
          "metadata": {}
        }
      ]
    },
    {
      "cell_type": "code",
      "source": [
        "#Cek missing values\n",
        "print(\"Missing Values:\")\n",
        "print(df.isnull().sum())"
      ],
      "metadata": {
        "id": "ai6aMY4del5q",
        "colab": {
          "base_uri": "https://localhost:8080/"
        },
        "outputId": "d4f5f5c0-815d-4b6f-fbac-044716abb60b"
      },
      "execution_count": 52,
      "outputs": [
        {
          "output_type": "stream",
          "name": "stdout",
          "text": [
            "Missing Values:\n",
            "Age                               14\n",
            "Gender                             9\n",
            "Height                            12\n",
            "Weight                            11\n",
            "CALC                               5\n",
            "FAVC                              11\n",
            "FCVC                               8\n",
            "NCP                               12\n",
            "SCC                               10\n",
            "SMOKE                              5\n",
            "CH2O                               6\n",
            "family_history_with_overweight    13\n",
            "FAF                                8\n",
            "TUE                                9\n",
            "CAEC                              11\n",
            "MTRANS                             6\n",
            "NObeyesdad                         0\n",
            "dtype: int64\n"
          ]
        }
      ]
    },
    {
      "cell_type": "code",
      "source": [
        "# Cek unique values pada kolom 'Age'\n",
        "print(\"\\nUnique Values pada kolom Age:\")\n",
        "print(df['Age'].nunique())\n",
        "print(df['Age'].unique())"
      ],
      "metadata": {
        "id": "geH-0vI5etTs",
        "colab": {
          "base_uri": "https://localhost:8080/"
        },
        "outputId": "182ffd76-2ce4-4893-d768-7ad2e618f5eb"
      },
      "execution_count": 53,
      "outputs": [
        {
          "output_type": "stream",
          "name": "stdout",
          "text": [
            "\n",
            "Unique Values pada kolom Age:\n",
            "1394\n",
            "['21' '23' '27' ... '22.524036' '24.361936' '23.664709']\n"
          ]
        }
      ]
    },
    {
      "cell_type": "code",
      "source": [
        "#Cek Data Duplikat\n",
        "print(\"\\nJumlah data duplikat:\")\n",
        "print(df.duplicated().sum())"
      ],
      "metadata": {
        "id": "5KXte2Jie3Cd",
        "colab": {
          "base_uri": "https://localhost:8080/"
        },
        "outputId": "2cf5bfaf-c6a1-4fd7-a780-7a20b9738569"
      },
      "execution_count": 54,
      "outputs": [
        {
          "output_type": "stream",
          "name": "stdout",
          "text": [
            "\n",
            "Jumlah data duplikat:\n",
            "18\n"
          ]
        }
      ]
    },
    {
      "cell_type": "code",
      "source": [
        "#Distribusi Gender\n",
        "class_counts = df['Gender'].value_counts()\n",
        "print(class_counts)\n",
        "plt.figure(figsize=(8, 6))\n",
        "sns.countplot(data=df, x='Gender')\n",
        "plt.title('Distribusi Gender')\n",
        "plt.show()"
      ],
      "metadata": {
        "id": "xoJtpJTAlFl1",
        "colab": {
          "base_uri": "https://localhost:8080/",
          "height": 651
        },
        "outputId": "dcf369e9-18a6-49bc-e0ef-131f319f9781"
      },
      "execution_count": 55,
      "outputs": [
        {
          "output_type": "stream",
          "name": "stdout",
          "text": [
            "Gender\n",
            "Male      1056\n",
            "Female    1033\n",
            "?           13\n",
            "Name: count, dtype: int64\n"
          ]
        },
        {
          "output_type": "display_data",
          "data": {
            "text/plain": [
              "<Figure size 800x600 with 1 Axes>"
            ],
            "image/png": "[encoded data removed]"
          },
          "metadata": {}
        }
      ]
    },
    {
      "cell_type": "code",
      "source": [
        "# Membuat boxplot untuk deteksi outlier\n",
        "plt.figure(figsize=(10, 6))\n",
        "sns.boxplot(x=df['NObeyesdad'], color=\"lightblue\")\n",
        "plt.title('Boxplot Obesitas untuk Deteksi Outlier', fontsize=14, pad=15)\n",
        "plt.xlabel('Kategori Obesitas', fontsize=12)\n",
        "plt.xticks(rotation=45, ha='right')\n",
        "plt.grid(True, linestyle='--', alpha=0.7)\n",
        "plt.tight_layout()\n",
        "plt.show()"
      ],
      "metadata": {
        "id": "yCw0fH0llOId",
        "colab": {
          "base_uri": "https://localhost:8080/",
          "height": 607
        },
        "outputId": "082169ae-b1d3-4c63-c809-c27dcca6cab1"
      },
      "execution_count": 56,
      "outputs": [
        {
          "output_type": "display_data",
          "data": {
            "text/plain": [
              "<Figure size 1000x600 with 1 Axes>"
            ],
            "image/png": "[encoded data removed]"
          },
          "metadata": {}
        }
      ]
    },
    {
      "cell_type": "markdown",
      "source": [
        "Kesimpulan :\n",
        "\n",
        "Masih terdapat banyak missing value pada masing-masing kolom. Tipe data kolom masih berupa object semua, perlu diubah ke numerik di tahap pre-processing nanti. Disteribusi Kelas Target juga masih imbalance dan OUtlier juga tidak menunjukkan distribusi yang  jelas, sehingga perlu dilakukan penanganan/handling di tahap pre-processing nanti."
      ],
      "metadata": {
        "id": "ocqwbZImEJp5"
      }
    },
    {
      "cell_type": "markdown",
      "source": [
        "## **TAHAP PRE PROCESSING**"
      ],
      "metadata": {
        "id": "RMucFxkRi3aS"
      }
    },
    {
      "cell_type": "code",
      "source": [
        "#Tangani Missing Values\n",
        "for column in df.columns:\n",
        "    if df[column].isna().sum() > 0:  # Hanya untuk kolom yang punya missing values\n",
        "        df[column] = df[column].fillna(\"Unknown\")\n",
        "\n",
        "print(\"Missing Values setelah penanganan:\\n\", df.isna().sum())"
      ],
      "metadata": {
        "colab": {
          "base_uri": "https://localhost:8080/"
        },
        "id": "L8sr_uwNi9Y_",
        "outputId": "12b6020e-9f85-4f4f-d1b5-ade086b84084"
      },
      "execution_count": 57,
      "outputs": [
        {
          "output_type": "stream",
          "name": "stdout",
          "text": [
            "Missing Values setelah penanganan:\n",
            " Age                               0\n",
            "Gender                            0\n",
            "Height                            0\n",
            "Weight                            0\n",
            "CALC                              0\n",
            "FAVC                              0\n",
            "FCVC                              0\n",
            "NCP                               0\n",
            "SCC                               0\n",
            "SMOKE                             0\n",
            "CH2O                              0\n",
            "family_history_with_overweight    0\n",
            "FAF                               0\n",
            "TUE                               0\n",
            "CAEC                              0\n",
            "MTRANS                            0\n",
            "NObeyesdad                        0\n",
            "dtype: int64\n"
          ]
        }
      ]
    },
    {
      "cell_type": "code",
      "source": [
        "#Menangani Duplikasi Data\n",
        "df = df.drop_duplicates()"
      ],
      "metadata": {
        "id": "PdDQqQD7E3cs"
      },
      "execution_count": 58,
      "outputs": []
    },
    {
      "cell_type": "code",
      "source": [
        "#Ubah Data Kategorikal Menjadi Numerik\n",
        "\n",
        "# Label Encoding untuk fitur biner\n",
        "binary_cols = ['family_history_with_overweight', 'FAVC', 'SMOKE', 'SCC']\n",
        "le = LabelEncoder()\n",
        "for col in binary_cols:\n",
        "    if col in df.columns:\n",
        "        df[col] = le.fit_transform(df[col])\n",
        "    else:\n",
        "        print(f\"Kolom {col} tidak ditemukan\")\n",
        "\n",
        "# One-Hot Encoding untuk fitur kategorikal nominal\n",
        "nominal_cols = ['Gender', 'MTRANS']\n",
        "missing_cols = [col for col in nominal_cols if col not in df.columns]\n",
        "if missing_cols:\n",
        "    print(f\"Kolom yang hilang: {missing_cols}\")\n",
        "else:\n",
        "    df = pd.get_dummies(df, columns=nominal_cols, drop_first=True)\n",
        "\n",
        "# Label Encoding untuk fitur kategorikal ordinal\n",
        "ordinal_cols = ['CAEC', 'CALC']\n",
        "for col in ordinal_cols:\n",
        "    if col in df.columns:\n",
        "        df[col] = le.fit_transform(df[col])\n",
        "    else:\n",
        "        print(f\"Kolom {col} tidak ditemukan\")\n",
        "\n",
        "# Label Encoding untuk target\n",
        "if 'NObeyesdad' in df.columns:\n",
        "    df['NObeyesdad'] = le.fit_transform(df['NObeyesdad'])\n",
        "else:\n",
        "    print(\"Kolom NObeyesdad tidak ditemukan\")\n",
        "\n",
        "# Tampilkan kolom setelah encoding\n",
        "print(df.columns)\n",
        "\n"
      ],
      "metadata": {
        "colab": {
          "base_uri": "https://localhost:8080/"
        },
        "id": "6qrz7PVJGKki",
        "outputId": "6de4b9eb-37b4-45a4-8b27-c44ff29a7670"
      },
      "execution_count": 59,
      "outputs": [
        {
          "output_type": "stream",
          "name": "stdout",
          "text": [
            "Index(['Age', 'Height', 'Weight', 'CALC', 'FAVC', 'FCVC', 'NCP', 'SCC',\n",
            "       'SMOKE', 'CH2O', 'family_history_with_overweight', 'FAF', 'TUE', 'CAEC',\n",
            "       'NObeyesdad', 'Gender_Female', 'Gender_Male', 'Gender_Unknown',\n",
            "       'MTRANS_Automobile', 'MTRANS_Bike', 'MTRANS_Motorbike',\n",
            "       'MTRANS_Public_Transportation', 'MTRANS_Unknown', 'MTRANS_Walking'],\n",
            "      dtype='object')\n"
          ]
        },
        {
          "output_type": "stream",
          "name": "stderr",
          "text": [
            "<ipython-input-59-6a651b5cd682>:8: SettingWithCopyWarning: \n",
            "A value is trying to be set on a copy of a slice from a DataFrame.\n",
            "Try using .loc[row_indexer,col_indexer] = value instead\n",
            "\n",
            "See the caveats in the documentation: https://pandas.pydata.org/pandas-docs/stable/user_guide/indexing.html#returning-a-view-versus-a-copy\n",
            "  df[col] = le.fit_transform(df[col])\n",
            "<ipython-input-59-6a651b5cd682>:8: SettingWithCopyWarning: \n",
            "A value is trying to be set on a copy of a slice from a DataFrame.\n",
            "Try using .loc[row_indexer,col_indexer] = value instead\n",
            "\n",
            "See the caveats in the documentation: https://pandas.pydata.org/pandas-docs/stable/user_guide/indexing.html#returning-a-view-versus-a-copy\n",
            "  df[col] = le.fit_transform(df[col])\n",
            "<ipython-input-59-6a651b5cd682>:8: SettingWithCopyWarning: \n",
            "A value is trying to be set on a copy of a slice from a DataFrame.\n",
            "Try using .loc[row_indexer,col_indexer] = value instead\n",
            "\n",
            "See the caveats in the documentation: https://pandas.pydata.org/pandas-docs/stable/user_guide/indexing.html#returning-a-view-versus-a-copy\n",
            "  df[col] = le.fit_transform(df[col])\n",
            "<ipython-input-59-6a651b5cd682>:8: SettingWithCopyWarning: \n",
            "A value is trying to be set on a copy of a slice from a DataFrame.\n",
            "Try using .loc[row_indexer,col_indexer] = value instead\n",
            "\n",
            "See the caveats in the documentation: https://pandas.pydata.org/pandas-docs/stable/user_guide/indexing.html#returning-a-view-versus-a-copy\n",
            "  df[col] = le.fit_transform(df[col])\n"
          ]
        }
      ]
    },
    {
      "cell_type": "code",
      "source": [
        "# Fungsi untuk menghapus outlier\n",
        "def remove_outliers(df, col):\n",
        "    Q1 = df[col].quantile(0.25)\n",
        "    Q3 = df[col].quantile(0.75)\n",
        "    IQR = Q3 - Q1\n",
        "    lower_bound = Q1 - 1.5 * IQR\n",
        "    upper_bound = Q3 + 1.5 * IQR\n",
        "    df = df[(df[col] >= lower_bound) & (df[col] <= upper_bound)]\n",
        "    return df\n",
        "\n",
        "# Daftar kolom kontinu\n",
        "continuous_cols = ['Age', 'Height', 'Weight', 'NCP', 'CH2O', 'FAF']\n",
        "\n",
        "# Konversi kolom ke tipe numerik\n",
        "for col in continuous_cols:\n",
        "    df[col] = pd.to_numeric(df[col], errors='coerce')\n",
        "\n",
        "# Hapus baris dengan NaN yang dihasilkan dari konversi\n",
        "df = df.dropna(subset=continuous_cols)\n",
        "\n",
        "# Terapkan fungsi remove_outliers untuk setiap kolom kontinu\n",
        "for col in continuous_cols:\n",
        "    df = remove_outliers(df, col)\n",
        "\n",
        "# (Opsional) Tampilkan hasil\n",
        "print(df.head())"
      ],
      "metadata": {
        "colab": {
          "base_uri": "https://localhost:8080/"
        },
        "id": "zy3abPjOJvtG",
        "outputId": "b207013c-37d3-4952-eb65-7a1a6640b128"
      },
      "execution_count": 60,
      "outputs": [
        {
          "output_type": "stream",
          "name": "stdout",
          "text": [
            "    Age  Height  Weight  CALC  FAVC FCVC  NCP  SCC  SMOKE  CH2O  ...  \\\n",
            "0  21.0    1.62    64.0     5     2    2  3.0    2      2   2.0  ...   \n",
            "1  21.0    1.52    56.0     3     2    3  3.0    3      3   3.0  ...   \n",
            "2  23.0    1.80    77.0     2     2    2  3.0    2      2   2.0  ...   \n",
            "3  27.0    1.80    87.0     2     2    3  3.0    2      2   2.0  ...   \n",
            "5  29.0    1.62    53.0     3     3    2  3.0    2      2   2.0  ...   \n",
            "\n",
            "   NObeyesdad  Gender_Female Gender_Male  Gender_Unknown  MTRANS_Automobile  \\\n",
            "0           1           True       False           False              False   \n",
            "1           1           True       False           False              False   \n",
            "2           1          False        True           False              False   \n",
            "3           5          False        True           False              False   \n",
            "5           1          False        True           False               True   \n",
            "\n",
            "   MTRANS_Bike  MTRANS_Motorbike  MTRANS_Public_Transportation  \\\n",
            "0        False             False                          True   \n",
            "1        False             False                          True   \n",
            "2        False             False                          True   \n",
            "3        False             False                         False   \n",
            "5        False             False                         False   \n",
            "\n",
            "   MTRANS_Unknown  MTRANS_Walking  \n",
            "0           False           False  \n",
            "1           False           False  \n",
            "2           False           False  \n",
            "3           False            True  \n",
            "5           False           False  \n",
            "\n",
            "[5 rows x 24 columns]\n"
          ]
        }
      ]
    },
    {
      "cell_type": "code",
      "source": [
        "print(df.head())\n",
        "print(df.dtypes)"
      ],
      "metadata": {
        "colab": {
          "base_uri": "https://localhost:8080/"
        },
        "id": "uHOPsRM0Kwko",
        "outputId": "3f83d770-ef1b-4f66-c475-608981f7b534"
      },
      "execution_count": 61,
      "outputs": [
        {
          "output_type": "stream",
          "name": "stdout",
          "text": [
            "    Age  Height  Weight  CALC  FAVC FCVC  NCP  SCC  SMOKE  CH2O  ...  \\\n",
            "0  21.0    1.62    64.0     5     2    2  3.0    2      2   2.0  ...   \n",
            "1  21.0    1.52    56.0     3     2    3  3.0    3      3   3.0  ...   \n",
            "2  23.0    1.80    77.0     2     2    2  3.0    2      2   2.0  ...   \n",
            "3  27.0    1.80    87.0     2     2    3  3.0    2      2   2.0  ...   \n",
            "5  29.0    1.62    53.0     3     3    2  3.0    2      2   2.0  ...   \n",
            "\n",
            "   NObeyesdad  Gender_Female Gender_Male  Gender_Unknown  MTRANS_Automobile  \\\n",
            "0           1           True       False           False              False   \n",
            "1           1           True       False           False              False   \n",
            "2           1          False        True           False              False   \n",
            "3           5          False        True           False              False   \n",
            "5           1          False        True           False               True   \n",
            "\n",
            "   MTRANS_Bike  MTRANS_Motorbike  MTRANS_Public_Transportation  \\\n",
            "0        False             False                          True   \n",
            "1        False             False                          True   \n",
            "2        False             False                          True   \n",
            "3        False             False                         False   \n",
            "5        False             False                         False   \n",
            "\n",
            "   MTRANS_Unknown  MTRANS_Walking  \n",
            "0           False           False  \n",
            "1           False           False  \n",
            "2           False           False  \n",
            "3           False            True  \n",
            "5           False           False  \n",
            "\n",
            "[5 rows x 24 columns]\n",
            "Age                               float64\n",
            "Height                            float64\n",
            "Weight                            float64\n",
            "CALC                                int64\n",
            "FAVC                                int64\n",
            "FCVC                               object\n",
            "NCP                               float64\n",
            "SCC                                 int64\n",
            "SMOKE                               int64\n",
            "CH2O                              float64\n",
            "family_history_with_overweight      int64\n",
            "FAF                               float64\n",
            "TUE                                object\n",
            "CAEC                                int64\n",
            "NObeyesdad                          int64\n",
            "Gender_Female                        bool\n",
            "Gender_Male                          bool\n",
            "Gender_Unknown                       bool\n",
            "MTRANS_Automobile                    bool\n",
            "MTRANS_Bike                          bool\n",
            "MTRANS_Motorbike                     bool\n",
            "MTRANS_Public_Transportation         bool\n",
            "MTRANS_Unknown                       bool\n",
            "MTRANS_Walking                       bool\n",
            "dtype: object\n"
          ]
        }
      ]
    },
    {
      "cell_type": "code",
      "source": [
        "print(df['FCVC'].unique())\n",
        "print(df['TUE'].unique())\n",
        "\n",
        "#tipe datanya masih object"
      ],
      "metadata": {
        "colab": {
          "base_uri": "https://localhost:8080/"
        },
        "id": "fDTVGK9cLN6Q",
        "outputId": "dfb50707-3f52-4f08-d695-9b5dc268aea8"
      },
      "execution_count": 62,
      "outputs": [
        {
          "output_type": "stream",
          "name": "stdout",
          "text": [
            "['2' '3' '1' 'Unknown' '?' '8.148992744163786' '8.42397392777979'\n",
            " '2.880161' '2.591439' '2.750715' '1.4925' '2.052932' '2.596364'\n",
            " '2.815157' '2.737762' '2.959658' '2.44004' '2.432302' '2.592247'\n",
            " '2.929889' '2.015258' '1.031149' '1.522001' '2.703436' '1.813234'\n",
            " '2.724285' '1.133844' '1.757466' '2.979383' '2.530066' '2.241606'\n",
            " '1.003566' '2.897899' '2.945967' '2.478891' '2.938031' '2.842102'\n",
            " '2.33998' '1.950742' '2.984425' '2.977018' '2.663421' '2.753752'\n",
            " '2.886157' '1.053534' '2.530233' '2.8813' '2.824559' '2.794197'\n",
            " '2.720701' '2.880792' '2.674431' '2.55996' '1.212908' '2.690754'\n",
            " '2.051283' '2.21498' '2.91548' '2.708965' '2.853513' '2.896562'\n",
            " '2.911877' '1.69427' '2.910345' '2.432886' '2.969205' '2.486189'\n",
            " '1.567101' '1.036414' '1.118436' '2.673638' '2.559571' '1.786841'\n",
            " '1.303878' '1.889883' '2.984004' '1.202075' '8.285111344444879'\n",
            " '1.206276' '2.052152' '2.555401' '2.108711' '1.570089' '2.714447'\n",
            " '2.903545' '2.39728' '2.823179' '2.838969' '2.568063' '2.652958'\n",
            " '2.303367' '2.366949' '2.615788' '2.801514' '2.188722' '2.971351'\n",
            " '1.901611' '2.446872' '1.993101' '2.620963' '2.95118' '2.021446'\n",
            " '2.000466' '2.5621' '2.253998' '2.778079' '2.838037' '2.814453'\n",
            " '2.013782' '2.459976' '2.104105' '1.972545' '2.971588' '2.872121'\n",
            " '2.109162' '1.142468' '1.766849' '1.188089' '2.029634' '2.048216'\n",
            " '2.995599' '2.786008' '1.874935' '2.213135' '2.273548' '1.687569'\n",
            " '1.989905' '1.947405' '2.162519' '2.923916' '2.99448' '2.286146'\n",
            " '2.908757' '2.628791' '2.885178' '2.992329' '2.927409' '2.706134'\n",
            " '2.300408' '2.451009' '2.661556' '2.097373' '2.061461' '2.951591'\n",
            " '2.067817' '2.54527' '2.694281' '2.759286' '1.925064' '2.846981'\n",
            " '2.631565' '1.650505' '1.961347' '2.133955' '2.265973' '2.712747'\n",
            " '2.795086' '2.030256' '2.442536' '2.003951' '2.607335' '2.061384'\n",
            " '2.696381' '1.116068' '2.116432' '2.031246' '2.884212' '2.766036'\n",
            " '1.096455' '2.019674' '1.588782' '2.689577' '2.413156' '2.882522'\n",
            " '2.992205' '2.164062' '2.247704' '2.011656' '2.03414' '2.332074'\n",
            " '2.748243' '2.303656' '2.407817' '2.734314' '2.784383' '2.009952'\n",
            " '1.122127' '2.319776' '1.899116' '2.042762' '2.129668' '2.182401'\n",
            " '2.802696' '2.294067' '2.315932' '1.653081' '2.765769' '2.63165'\n",
            " '2.942154' '2.716909' '1.83746' '1.936479' '2.045027' '2.907062'\n",
            " '2.399531' '2.501683' '2.742796' '2.271306' '2.177243' '1.362441'\n",
            " '8.015740980881588' '2.496455' '2.262171' '2.740633' '1.081585'\n",
            " '2.252653' '2.609123' '1.036159' '1.851262' '2.501236' '2.103335'\n",
            " '2.060922' '2.058687' '2.954996' '2.061969' '2.150054' '2.180047'\n",
            " '1.524428' '1.164062' '2.123159' '2.259679' '2.044326' '2.843456'\n",
            " '2.871137' '2.282803' '2.737149' '1.899793' '1.897796' '2.85916'\n",
            " '2.340405' '2.921576' '2.92711' '2.805533' '2.290095' '2.14128' '2.66889'\n",
            " '2.921225' '1.492834' '1.220024' '2.104772' '2.094184' '2.049112'\n",
            " '1.880534' '2.121909' '2.642744' '2.387426' '1.996638' '2.107854'\n",
            " '2.253707' '2.393837' '2.348745' '2.312825' '2.490776' '2.078082'\n",
            " '2.805512' '1.276858' '2.685484' '2.055209' '2.385502' '2.465575'\n",
            " '2.818502' '2.081238' '1.368978' '1.3307' '1.961069' '2.976509'\n",
            " '2.319648' '1.261288' '2.76533' '2.317734' '1.588114' '2.206276'\n",
            " '2.18354' '2.962415' '1.99124' '2.408561' '2.758394' '2.956297'\n",
            " '1.369529' '1.868212' '1.108663' '2.95801' '2.197261' '2.048962'\n",
            " '2.139196' '1.994679' '2.403421' '2.964319' '1.617093' '1.631144'\n",
            " '2.323351' '1.428289' '1.992889' '1.562804' '2.576449' '2.633855'\n",
            " '2.200588' '2.499108' '2.05687' '2.247795' '2.239634' '2.9673' '2.178308'\n",
            " '2.065752' '2.443538' '2.744994' '2.630137' '2.113843' '2.821727'\n",
            " '2.312528' '2.938801' '2.050619' '1.457758' '2.028571' '1.455602'\n",
            " '2.736298' '2.722161' '2.971574' '1.572036' '2.973569' '2.041376'\n",
            " '2.02472' '1.996646' '2.644094' '2.475892' '2.941627' '2.998441'\n",
            " '2.397284' '2.382705' '2.303041' '2.323003' '1.99953' '2.08868'\n",
            " '2.206119' '2.328469' '2.002784' '1.975675' '2.002076' '2.392179'\n",
            " '2.381164' '2.008245' '2.155182' '2.969233' '2.765063' '2.195964'\n",
            " '2.619987' '2.918113' '2.889485' '2.939727' '1.264234' '1.517912'\n",
            " '2.23372' '1.475906' '2.954417' '2.826251' '2.95841' '1.878251'\n",
            " '1.750809' '1.168856' '1.443674' '2.826036' '2.772027' '2.499626'\n",
            " '2.108638' '2.467548' '2.585942' '2.14961' '2.938616' '1.800122'\n",
            " '1.482722' '1.735664' '1.655684' '2.598207' '2.225149' '2.519592'\n",
            " '2.111887' '2.970983' '2.907542' '1.451337' '1.537505' '1.893428'\n",
            " '2.007845' '2.813775' '2.922511' '2.836055' '2.320201' '2.181057'\n",
            " '1.924632' '1.397468' '2.191429' '2.100177' '2.075321' '1.626369'\n",
            " '1.263216' '2.679664' '2.731368' '2.432355' '2.497548' '2.671238'\n",
            " '2.341999' '2.117121' '2.247037' '2.244654' '2.128574' '2.068834'\n",
            " '2.997951' '2.911312' '2.159033' '2.175276' '2.21965' '2.203962'\n",
            " '1.947495' '2.262292' '2.314175' '2.637202' '2.974006' '2.347942' '2.739'\n",
            " '2.591292' '2.611847' '2.766612' '2.777165' '2.571274' '2.49619'\n",
            " '2.151335' '2.01695' '2.927187' '1.412566' '1.289315' '1.624366'\n",
            " '2.037042' '2.191108' '1.431346' '1.84199' '2.684335' '2.425503'\n",
            " '1.469384' '2.808027' '2.636719' '2.996717']\n",
            "['1' '0' '2' 'Unknown' '7.040697097572142' '7.192454306013233'\n",
            " '7.347785392434565' '7.506773619473715' '0.29499' '0.838957' '0.479221'\n",
            " '0.62535' '0.26579' '0.555468' '0.928972' '1.37465' '1.283673' '0.469735'\n",
            " '0.009254' '0.114716' '0.256382' '?' '1.488372' '1.839862' '1.380204'\n",
            " '1.59257' '1.273333' '0.875464' '0.152985' '1.119877' '1.366355'\n",
            " '0.720454' '0.322307' '1.593704' '1.329237' '1.673584' '1.708309'\n",
            " '1.616045' '1.241755' '0.625079' '0.814518' '1.466667' '0.327376'\n",
            " '0.370973' '0.560351' '1.525597' '1.884138' '1.743319' '1.250871'\n",
            " '1.391948' '0.220087' '0.861809' '0.000355' '1.672508' '0.427461'\n",
            " '1.099764' '1.990617' '1.561272' '0.897942' '0.85882' '1.258881'\n",
            " '1.253311' '1.55011' '0.417116' '0.071317' '1.300692' '1.958089'\n",
            " '1.626194' '0.403694' '0.588994' '1.608265' '1.672532' '1.151166'\n",
            " '1.747256' '1.487223' '0.37465' '0.142056' '1.415536' '0.628059'\n",
            " '0.315918' '1.89388' '0.19668' '0.273882' '1.339232' '1.887386'\n",
            " '0.008899' '1.720642' '1.112489' '0.105895' '1.453335' '0.096614'\n",
            " '0.117303' '0.004813' '0.142638' '0.798219' '1.983678' '0.366126'\n",
            " '0.686529' '0.453314' '0.143675' '0.678618' '0.307982' '1.650778'\n",
            " '0.014885' '0.022245' '0.561602' '0.808599' '0.923082' '1.783319'\n",
            " '0.978574' '0.024088' '0.879925' '1.286844' '0.166076' '0.516084'\n",
            " '0.480214' '0.871772' '1.409198' '1.191053' '0.470243' '0.153559'\n",
            " '0.572877' '0.776758' '0.139013' '1.967259' '1.905826' '0.256977'\n",
            " '1.043108' '0.276806' '0.330457' '0.127879' '0.086868' '1.466496'\n",
            " '0.271024' '1.102696' '0.68173' '0.939726' '0.88868' '1.502839'\n",
            " '0.311436' '0.150969' '1.301385' '1.898139' '1.618227' '0.001096'\n",
            " '0.003229' '1.753745' '0.916291' '0.017225' '1.405086' '0.797215'\n",
            " '0.908836' '1.40913' '1.323877' '1.540298' '0.658783' '0.453404'\n",
            " '0.322405' '0.761898' '0.78519' '0.947192' '1.922364' '0.434198'\n",
            " '0.891189' '1.043435' '0.681773' '0.519395' '0.133566' '0.41758'\n",
            " '0.429081' '0.651904' '0.845774' '6.74713852049661' '0.648522' '0.155278'\n",
            " '0.663649' '0.173665' '1.269982' '1.692287' '0.333673' '1.444532'\n",
            " '1.228995' '1.73216' '0.799756' '0.124977' '0.630866' '0.962468'\n",
            " '1.97117' '1.066708' '0.418623' '0.8324' '1.114716' '0.827439' '0.726118'\n",
            " '0.608607' '1.886855' '0.828549' '0.965464' '0.860321' '0.746651'\n",
            " '0.688293' '1.413375' '1.206535' '0.395979' '1.343044' '1.019452'\n",
            " '0.9976' '0.441502' '1.462664' '1.544357' '0.089354' '0.908271'\n",
            " '0.163329' '1.34403' '0.839659' '1.944177' '0.954216' '1.365793'\n",
            " '1.029135' '0.290898' '0.524015' '0.936925' '1.358812' '1.261043'\n",
            " '1.749586' '0.544899' '0.518542' '0.121992' '0.42683' '0.933802'\n",
            " '0.905181' '0.805008' '0.017016' '0.176892' '1.212762' '0.646514'\n",
            " '0.934493' '0.037634' '0.606264' '0.993786' '0.023564' '1.619596'\n",
            " '1.564796' '0.413752' '1.338655' '0.070897' '1.237867' '1.350099'\n",
            " '0.105936' '1.281141' '0.505266' '1.206251' '0.526999' '0.732265'\n",
            " '0.508663' '0.76906' '0.621605' '1.616826' '0.233314' '1.817146'\n",
            " '0.329367' '1.595306' '0.537202' '1.758865' '0.680215' '1.066603'\n",
            " '0.969085' '0.0026' '1.06053' '1.256119' '1.604608' '0.335158' '0.169294'\n",
            " '1.281541' '1.36595' '1.978043' '0.894105' '0.839862' '1.220029'\n",
            " '0.320851' '0.569852' '0.80898' '0.077818' '1.554404' '1.014808'\n",
            " '0.048617' '0.169879' '0.4346' '0.468483' '0.838847' '0.786066'\n",
            " '0.548539' '0.905596' '0.202902' '1.58483' '1.596562' '1.59405'\n",
            " '1.509831' '0.70778' '1.632506' '1.529423' '0.013483' '1.252677'\n",
            " '1.195929' '1.032392' '0.133523' '0.733221' '0.61599' '1.39322'\n",
            " '1.292476' '1.287117' '1.402414' '0.195339' '0.896185' '0.196084'\n",
            " '0.920858' '0.12228' '1.224737' '1.229474' '0.544128' '0.175587'\n",
            " '1.157466' '0.363549' '0.920162' '0.518297' '0.831412' '0.175694'\n",
            " '0.41322' '0.67688' '0.579541' '0.756339' '0.261793' '1.376597'\n",
            " '1.560402' '0.14451' '1.914531' '0.467048' '0.931721' '0.552665'\n",
            " '1.767468' '1.670313' '0.22183' '0.319008' '0.313016' '0.30402' '1.35537'\n",
            " '1.331527' '1.80931' '0.95174' '0.720411' '1.108145' '1.928972'\n",
            " '0.292956' '1.358163' '1.875023' '0.613992' '0.001716' '0.976473'\n",
            " '0.360986' '0.739006' '0.707768' '0.396352' '0.716327' '0.631825'\n",
            " '0.86374' '1.493716' '0.696948' '0.000436' '0.424612' '0.489854'\n",
            " '1.759954' '0.947866' '1.875683' '0.677354' '0.738935' '0.357314'\n",
            " '0.232858' '1.035711' '1.360463' '0.261901' '0.00133' '0.066805'\n",
            " '0.101026' '0.428452' '0.504816' '0.340196' '0.157007' '0.739684'\n",
            " '0.500936' '0.100048' '1.588046' '1.99219' '0.725222' '1.251554'\n",
            " '0.849503' '0.176678' '0.010721' '0.081156' '1.073026' '1.89933'\n",
            " '0.474216' '1.74992' '1.191998' '0.677909' '0.127673' '1.090995'\n",
            " '1.480875' '0.008343' '1.432336' '0.002168' '0.00164' '0.449886'\n",
            " '0.460866' '0.754023' '0.325445' '0.114457' '0.00159' '0.001337'\n",
            " '0.051268' '1.022505' '0.047473' '0.310394' '0.111925' '0.345887'\n",
            " '1.333559' '0.764452' '0.690353' '0.39174' '0.690082' '0.295685'\n",
            " '0.682128' '0.264969' '0.343635' '1.140348' '1.416353' '1.915818'\n",
            " '1.668318' '0.631217' '0.631422' '0.93648' '0.838947' '1.465479'\n",
            " '1.439004' '0.511694' '0.062167' '0.380979' '0.247332' '0.276319'\n",
            " '0.076693' '1.150439' '0.090341' '0.173232' '0.593917' '0.921991'\n",
            " '1.556052' '0.026575' '0.038253' '0.972054' '0.785701' '0.052942'\n",
            " '0.079334' '0.688985' '1.220767' '0.618087' '0.847587' '1.578517'\n",
            " '0.758897' '1.339691' '0.188693' '0.281815' '0.063005' '1.198439'\n",
            " '0.2916' '1.152899' '0.217632' '0.527766' '0.185499' '1.015467'\n",
            " '0.001867' '0.001518' '0.356868' '0.020044' '0.145284' '0.196952'\n",
            " '0.078207' '0.442456' '0.531769' '0.150544' '0.315595' '0.034897'\n",
            " '0.534769' '0.939665' '0.138418' '0.444532' '0.31794' '0.886135'\n",
            " '0.479348' '0.492394' '0.94232' '0.998646' '0.671458' '0.627886'\n",
            " '0.526776' '0.138563' '0.410651' '0.962336' '0.58345' '0.824607'\n",
            " '0.813784' '0.957463' '0.01931' '0.110518' '0.753077' '0.366385'\n",
            " '0.959218' '0.425473' '0.25115' '0.869238' '0.825609' '0.735201'\n",
            " '0.573958' '0.625371' '0.156187' '0.692343' '0.54396' '0.766668'\n",
            " '0.816986' '0.539074' '0.553093' '0.619235' '0.655571' '0.923005'\n",
            " '0.893514' '0.914492' '0.101867' '0.250502' '0.393838' '0.519905'\n",
            " '0.912187' '0.200122' '0.436068' '0.639561' '0.926052' '0.925843'\n",
            " '0.368472' '0.357581' '0.199227' '0.481031' '0.629285' '0.930836'\n",
            " '0.463196' '0.66488' '0.685129' '0.723366' '0.70558' '0.87092' '0.862724'\n",
            " '0.153462' '0.169016' '0.237307' '0.088309' '0.162494' '0.096576'\n",
            " '0.546137' '0.733085' '0.438216' '0.937492' '0.887388' '0.587932'\n",
            " '0.803156' '0.695838' '0.768375' '0.010056' '0.051858' '0.929356'\n",
            " '0.552006' '0.33929' '0.243338' '0.858392' '0.832515' '0.91336'\n",
            " '0.639894' '0.655558' '0.252635' '0.258472' '0.55415' '0.465607'\n",
            " '0.918468' '0.890527' '0.922749' '0.711331' '0.603736' '0.735372'\n",
            " '0.835771' '0.933964' '0.125235' '0.101598' '0.412806' '0.663492'\n",
            " '0.747909' '0.657221' '0.472343' '0.604692' '0.910683' '0.873936'\n",
            " '0.451377' '0.413474' '0.380695' '0.462973' '0.930888' '0.673009'\n",
            " '0.737226' '0.652289' '0.966181' '0.968151' '0.760091' '0.729722'\n",
            " '0.804491' '0.775378' '0.283804' '0.081929' '0.088236' '0.153669'\n",
            " '0.127443' '0.683736' '0.7702' '0.508848' '0.396972' '0.950438'\n",
            " '0.926443' '0.586163' '0.723154' '0.845633' '0.991473' '0.76399'\n",
            " '0.789064' '0.92376' '0.94603' '0.079673' '0.167272' '0.228486'\n",
            " '0.896105' '0.896842' '0.764717' '0.575969' '0.952352' '0.322666'\n",
            " '0.278962' '0.269577' '0.878258' '0.868788' '0.83509' '0.849236'\n",
            " '0.731213' '0.927982' '0.686491' '0.77319' '0.779641' '0.140368'\n",
            " '0.15171' '0.196288' '0.200379' '0.629578' '0.419446' '0.539876'\n",
            " '0.541309' '0.792496' '0.773807' '0.713823' '0.912345' '0.566353'\n",
            " '0.543118' '0.670402' '0.778632' '0.42954' '0.543761' '0.672513'\n",
            " '0.688058' '0.900497' '0.885993' '0.840911' '0.870795' '0.656491'\n",
            " '0.843283' '0.076094' '0.140792' '0.244205' '0.402075' '0.597626'\n",
            " '0.54859' '0.546345' '0.565315' '0.58284' '0.763359' '0.946888' '0.21523'\n",
            " '0.384129' '0.434073' '0.662277' '0.534553' '0.840393' '0.911335'\n",
            " '0.926565' '0.858059' '0.383953' '0.224559' '0.276907' '0.218645'\n",
            " '0.17403' '0.486558' '0.780199' '0.927341' '0.921136' '0.692608'\n",
            " '0.573887' '0.516764' '0.210997' '0.675076' '0.900067' '0.836151'\n",
            " '0.857718' '0.711724' '0.740331' '0.863043' '0.680746' '0.813235'\n",
            " '0.902825' '0.901071' '0.26956' '0.028583' '0.080128' '0.224655'\n",
            " '0.232108' '0.123861' '0.091711' '0.178301' '0.171034' '0.09776'\n",
            " '0.094213' '0.599441' '0.503896' '0.561661' '0.465444' '0.484165'\n",
            " '0.455823' '0.413106' '0.912457' '0.931455' '0.897924' '0.906247'\n",
            " '0.59927' '0.646288' '0.586035' '0.714137']\n"
          ]
        }
      ]
    },
    {
      "cell_type": "code",
      "source": [
        "#Ubah ke Numerik\n",
        "df['FCVC'] = pd.to_numeric(df['FCVC'], errors='coerce')\n",
        "df['TUE'] = pd.to_numeric(df['TUE'], errors='coerce')\n",
        "\n",
        "print(df['FCVC'].isna().sum())\n",
        "print(df['TUE'].isna().sum())\n",
        "\n"
      ],
      "metadata": {
        "colab": {
          "base_uri": "https://localhost:8080/"
        },
        "id": "JL75ZcvNL-34",
        "outputId": "6e1ad7f6-c733-4d7f-e632-2f0096836095"
      },
      "execution_count": 63,
      "outputs": [
        {
          "output_type": "stream",
          "name": "stdout",
          "text": [
            "12\n",
            "9\n"
          ]
        }
      ]
    },
    {
      "cell_type": "code",
      "source": [
        "#Mengisi Nilai Nan\n",
        "df['FCVC'].fillna(df['FCVC'].mean(), inplace=True)\n",
        "df['TUE'].fillna(df['TUE'].mean(), inplace=True)\n"
      ],
      "metadata": {
        "colab": {
          "base_uri": "https://localhost:8080/"
        },
        "id": "EPSq0qd0Ml7q",
        "outputId": "d82c0c89-2c03-44be-e542-12bf314dcfac"
      },
      "execution_count": 64,
      "outputs": [
        {
          "output_type": "stream",
          "name": "stderr",
          "text": [
            "<ipython-input-64-cda8cb286b13>:2: FutureWarning: A value is trying to be set on a copy of a DataFrame or Series through chained assignment using an inplace method.\n",
            "The behavior will change in pandas 3.0. This inplace method will never work because the intermediate object on which we are setting values always behaves as a copy.\n",
            "\n",
            "For example, when doing 'df[col].method(value, inplace=True)', try using 'df.method({col: value}, inplace=True)' or df[col] = df[col].method(value) instead, to perform the operation inplace on the original object.\n",
            "\n",
            "\n",
            "  df['FCVC'].fillna(df['FCVC'].mean(), inplace=True)\n",
            "<ipython-input-64-cda8cb286b13>:3: FutureWarning: A value is trying to be set on a copy of a DataFrame or Series through chained assignment using an inplace method.\n",
            "The behavior will change in pandas 3.0. This inplace method will never work because the intermediate object on which we are setting values always behaves as a copy.\n",
            "\n",
            "For example, when doing 'df[col].method(value, inplace=True)', try using 'df.method({col: value}, inplace=True)' or df[col] = df[col].method(value) instead, to perform the operation inplace on the original object.\n",
            "\n",
            "\n",
            "  df['TUE'].fillna(df['TUE'].mean(), inplace=True)\n"
          ]
        }
      ]
    },
    {
      "cell_type": "code",
      "source": [
        "print(df.dtypes[['FCVC', 'TUE']])\n",
        "\n",
        "#data siap digunakan"
      ],
      "metadata": {
        "colab": {
          "base_uri": "https://localhost:8080/"
        },
        "id": "i3uYzJKMMso7",
        "outputId": "57a0f39d-4fd9-45a2-f7bd-ce9292726e44"
      },
      "execution_count": 65,
      "outputs": [
        {
          "output_type": "stream",
          "name": "stdout",
          "text": [
            "FCVC    float64\n",
            "TUE     float64\n",
            "dtype: object\n"
          ]
        }
      ]
    },
    {
      "cell_type": "code",
      "source": [
        "#Evaluasi Pentingnya Fitur\n",
        "X = df.drop('NObeyesdad', axis=1)\n",
        "y = df['NObeyesdad']\n",
        "\n",
        "# Gunakan Random Forest untuk mengevaluasi pentingnya fitur\n",
        "rf = RandomForestClassifier(random_state=42)\n",
        "rf.fit(X, y)\n",
        "feature_importance = pd.Series(rf.feature_importances_, index=X.columns).sort_values(ascending=False)\n",
        "\n",
        "# Visualisasi pentingnya fitur\n",
        "plt.figure(figsize=(10, 6))\n",
        "sns.barplot(x=feature_importance, y=feature_importance.index)\n",
        "plt.title('Feature Importance')\n",
        "plt.show()"
      ],
      "metadata": {
        "colab": {
          "base_uri": "https://localhost:8080/",
          "height": 564
        },
        "id": "0ZzvjgAgHomg",
        "outputId": "862d07f4-f8c0-4466-99cf-b2a5259d7893"
      },
      "execution_count": 66,
      "outputs": [
        {
          "output_type": "display_data",
          "data": {
            "text/plain": [
              "<Figure size 1000x600 with 1 Axes>"
            ],
            "image/png": "[encoded data removed]"
          },
          "metadata": {}
        }
      ]
    },
    {
      "cell_type": "code",
      "source": [
        "#Menghapus fitur dengan importance rendah (< 0.01)\n",
        "low_importance = feature_importance[feature_importance < 0.01].index\n",
        "if len(low_importance) > 0:\n",
        "    print(f\"Fitur yang dihapus karena importance rendah: {low_importance}\")\n",
        "    X = X.drop(columns=low_importance)\n",
        "    df = df.drop(columns=low_importance)"
      ],
      "metadata": {
        "colab": {
          "base_uri": "https://localhost:8080/"
        },
        "id": "TyFlNJ6aNaF1",
        "outputId": "39671c9a-1c3f-421a-8130-8c4a0d19e5ee"
      },
      "execution_count": 67,
      "outputs": [
        {
          "output_type": "stream",
          "name": "stdout",
          "text": [
            "Fitur yang dihapus karena importance rendah: Index(['SCC', 'MTRANS_Walking', 'SMOKE', 'MTRANS_Bike', 'Gender_Unknown',\n",
            "       'MTRANS_Motorbike', 'MTRANS_Unknown'],\n",
            "      dtype='object')\n"
          ]
        }
      ]
    },
    {
      "cell_type": "code",
      "source": [
        "# Tangani error (contoh: batasi nilai tidak realistis)\n",
        "\n",
        "df = df[(df['Age'] >= 0) & (df['Age'] <= 100)]  # Usia realistis\n",
        "df = df[(df['Height'] > 0) & (df['Height'] <= 2.5)]  # Tinggi dalam meter\n",
        "df = df[(df['Weight'] > 0) & (df['Weight'] <= 300)]  # Berat dalam kg\n",
        "df = df[(df['NCP'] >= 1) & (df['NCP'] <= 10)]  # Jumlah makan besar\n",
        "df = df[(df['CH2O'] >= 0) & (df['CH2O'] <= 10)]  # Konsumsi air dalam liter\n",
        "df = df[(df['FAF'] >= 0) & (df['FAF'] <= 7)]  # Aktivitas fisik (hari/minggu)"
      ],
      "metadata": {
        "id": "TsxYTcWHNp6e"
      },
      "execution_count": 68,
      "outputs": []
    },
    {
      "cell_type": "code",
      "source": [
        "#Mengatasi Imbalance Data\n",
        "\n",
        "print(\"Distribusi kelas sebelum SMOTE:\\n\", y.value_counts())\n",
        "\n",
        "# Terapkan SMOTE\n",
        "smote = SMOTE(random_state=42)\n",
        "X_resampled, y_resampled = smote.fit_resample(X, y)\n",
        "\n",
        "print(\"Distribusi kelas setelah SMOTE:\\n\", pd.Series(y_resampled).value_counts())"
      ],
      "metadata": {
        "colab": {
          "base_uri": "https://localhost:8080/"
        },
        "id": "D4B6RCQTOEoo",
        "outputId": "fa104d7d-e5a6-4293-b1b2-26b348bbb4ae"
      },
      "execution_count": 69,
      "outputs": [
        {
          "output_type": "stream",
          "name": "stdout",
          "text": [
            "Distribusi kelas sebelum SMOTE:\n",
            " NObeyesdad\n",
            "4    289\n",
            "3    192\n",
            "2    182\n",
            "1    181\n",
            "6    149\n",
            "5    139\n",
            "0    126\n",
            "Name: count, dtype: int64\n",
            "Distribusi kelas setelah SMOTE:\n",
            " NObeyesdad\n",
            "1    289\n",
            "5    289\n",
            "2    289\n",
            "6    289\n",
            "3    289\n",
            "0    289\n",
            "4    289\n",
            "Name: count, dtype: int64\n"
          ]
        }
      ]
    },
    {
      "cell_type": "code",
      "source": [
        "#Normalisasi Data\n",
        "\n",
        "# Standarisasi fitur kontinu dan integer\n",
        "scaler = StandardScaler()\n",
        "scale_cols = continuous_cols + ['FCVC', 'TUE']\n",
        "X_resampled[scale_cols] = scaler.fit_transform(X_resampled[scale_cols])\n",
        "\n",
        "# Gabungkan kembali data\n",
        "df_resampled = pd.concat([pd.DataFrame(X_resampled, columns=X.columns), pd.Series(y_resampled, name='NObeyesdad')], axis=1)"
      ],
      "metadata": {
        "id": "exz9rYkLPCjv"
      },
      "execution_count": 70,
      "outputs": []
    },
    {
      "cell_type": "code",
      "source": [
        "# Kesimpulan Preprocessing\n",
        "print(\"\\nKesimpulan Preprocessing:\")\n",
        "print(f\"- Missing values telah ditangani sebelumnya.\")\n",
        "print(f\"- Duplikasi dihapus: {len(df) - len(df.drop_duplicates())} baris.\")\n",
        "print(f\"- Outlier ditangani menggunakan IQR pada kolom: {continuous_cols}\")\n",
        "print(f\"- Fitur kategorikal diencode: {binary_cols + nominal_cols + ordinal_cols}\")\n",
        "print(f\"- Fitur dengan importance rendah (jika ada) dihapus: {low_importance if len(low_importance) > 0 else 'Tidak ada'}\")\n",
        "print(f\"- Ketidakseimbangan kelas ditangani menggunakan SMOTE.\")\n",
        "print(f\"- Fitur {scale_cols} telah distandarisasi menggunakan StandardScaler.\")\n",
        "print(f\"- Data siap untuk pemodelan dengan {len(df_resampled)} baris dan {len(df_resampled.columns)} kolom.\")"
      ],
      "metadata": {
        "colab": {
          "base_uri": "https://localhost:8080/"
        },
        "id": "Q9yhUrndQSdl",
        "outputId": "d94da5b8-f0d9-44ca-82f5-644050d7af34"
      },
      "execution_count": 71,
      "outputs": [
        {
          "output_type": "stream",
          "name": "stdout",
          "text": [
            "\n",
            "Kesimpulan Preprocessing:\n",
            "- Missing values telah ditangani sebelumnya.\n",
            "- Duplikasi dihapus: 0 baris.\n",
            "- Outlier ditangani menggunakan IQR pada kolom: ['Age', 'Height', 'Weight', 'NCP', 'CH2O', 'FAF']\n",
            "- Fitur kategorikal diencode: ['family_history_with_overweight', 'FAVC', 'SMOKE', 'SCC', 'Gender', 'MTRANS', 'CAEC', 'CALC']\n",
            "- Fitur dengan importance rendah (jika ada) dihapus: Index(['SCC', 'MTRANS_Walking', 'SMOKE', 'MTRANS_Bike', 'Gender_Unknown',\n",
            "       'MTRANS_Motorbike', 'MTRANS_Unknown'],\n",
            "      dtype='object')\n",
            "- Ketidakseimbangan kelas ditangani menggunakan SMOTE.\n",
            "- Fitur ['Age', 'Height', 'Weight', 'NCP', 'CH2O', 'FAF', 'FCVC', 'TUE'] telah distandarisasi menggunakan StandardScaler.\n",
            "- Data siap untuk pemodelan dengan 2023 baris dan 17 kolom.\n"
          ]
        }
      ]
    }
  ]
}